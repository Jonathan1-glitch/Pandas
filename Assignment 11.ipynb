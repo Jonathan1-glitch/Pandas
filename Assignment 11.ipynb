{
 "cells": [
  {
   "cell_type": "code",
   "execution_count": 17,
   "metadata": {},
   "outputs": [],
   "source": [
    "#Author: Soumyadeep Hore\n",
    "#Assignment: 11\n",
    "#Created on: 24th October,2019 21:08 IST\n",
    "\n",
    "#importing numpy package\n",
    "import numpy as np\n",
    "\n",
    "#importing pandas packages\n",
    "import pandas as pd\n",
    "\n",
    "#importing seaborn package\n",
    "import seaborn as sns\n",
    "\n",
    "#reading deliveries datasheet\n",
    "delivery=pd.read_csv('deliveries.csv')\n",
    "\n",
    "#reading ipl matches dataframe\n",
    "match=pd.read_csv('matches - matches.csv')"
   ]
  },
  {
   "cell_type": "code",
   "execution_count": 18,
   "metadata": {},
   "outputs": [],
   "source": [
    "#merging the above two datasets\n",
    "tournament=delivery.merge(match,left_on='match_id',right_on='id')"
   ]
  },
  {
   "cell_type": "code",
   "execution_count": 19,
   "metadata": {},
   "outputs": [
    {
     "data": {
      "text/html": [
       "<div>\n",
       "<style scoped>\n",
       "    .dataframe tbody tr th:only-of-type {\n",
       "        vertical-align: middle;\n",
       "    }\n",
       "\n",
       "    .dataframe tbody tr th {\n",
       "        vertical-align: top;\n",
       "    }\n",
       "\n",
       "    .dataframe thead th {\n",
       "        text-align: right;\n",
       "    }\n",
       "</style>\n",
       "<table border=\"1\" class=\"dataframe\">\n",
       "  <thead>\n",
       "    <tr style=\"text-align: right;\">\n",
       "      <th></th>\n",
       "      <th>season</th>\n",
       "      <th>bowler</th>\n",
       "    </tr>\n",
       "  </thead>\n",
       "  <tbody>\n",
       "    <tr>\n",
       "      <th>84</th>\n",
       "      <td>2008</td>\n",
       "      <td>Sohail Tanvir</td>\n",
       "    </tr>\n",
       "    <tr>\n",
       "      <th>174</th>\n",
       "      <td>2009</td>\n",
       "      <td>RP Singh</td>\n",
       "    </tr>\n",
       "    <tr>\n",
       "      <th>284</th>\n",
       "      <td>2010</td>\n",
       "      <td>PP Ojha</td>\n",
       "    </tr>\n",
       "    <tr>\n",
       "      <th>447</th>\n",
       "      <td>2011</td>\n",
       "      <td>SL Malinga</td>\n",
       "    </tr>\n",
       "    <tr>\n",
       "      <th>537</th>\n",
       "      <td>2012</td>\n",
       "      <td>M Morkel</td>\n",
       "    </tr>\n",
       "    <tr>\n",
       "      <th>629</th>\n",
       "      <td>2013</td>\n",
       "      <td>DJ Bravo</td>\n",
       "    </tr>\n",
       "    <tr>\n",
       "      <th>780</th>\n",
       "      <td>2014</td>\n",
       "      <td>MM Sharma</td>\n",
       "    </tr>\n",
       "    <tr>\n",
       "      <th>848</th>\n",
       "      <td>2015</td>\n",
       "      <td>DJ Bravo</td>\n",
       "    </tr>\n",
       "    <tr>\n",
       "      <th>939</th>\n",
       "      <td>2016</td>\n",
       "      <td>B Kumar</td>\n",
       "    </tr>\n",
       "    <tr>\n",
       "      <th>1049</th>\n",
       "      <td>2017</td>\n",
       "      <td>B Kumar</td>\n",
       "    </tr>\n",
       "  </tbody>\n",
       "</table>\n",
       "</div>"
      ],
      "text/plain": [
       "      season         bowler\n",
       "84      2008  Sohail Tanvir\n",
       "174     2009       RP Singh\n",
       "284     2010        PP Ojha\n",
       "447     2011     SL Malinga\n",
       "537     2012       M Morkel\n",
       "629     2013       DJ Bravo\n",
       "780     2014      MM Sharma\n",
       "848     2015       DJ Bravo\n",
       "939     2016        B Kumar\n",
       "1049    2017        B Kumar"
      ]
     },
     "execution_count": 19,
     "metadata": {},
     "output_type": "execute_result"
    }
   ],
   "source": [
    "# Problem 1: Finding Purple Cap holder per season.\n",
    "\n",
    "#finding Purpe Cap Holder of each season\n",
    "tournament.groupby(['season','bowler'])['player_dismissed'].count().reset_index().sort_values(['season','player_dismissed'],ascending=False).drop_duplicates(subset='season',keep='first').sort_values('season')[['season','bowler']]"
   ]
  },
  {
   "cell_type": "code",
   "execution_count": 20,
   "metadata": {},
   "outputs": [
    {
     "data": {
      "text/plain": [
       "batsman\n",
       "SK Raina          4548\n",
       "V Kohli           4423\n",
       "RG Sharma         4207\n",
       "G Gambhir         4132\n",
       "DA Warner         4014\n",
       "RV Uthappa        3778\n",
       "CH Gayle          3651\n",
       "S Dhawan          3561\n",
       "MS Dhoni          3560\n",
       "AB de Villiers    3486\n",
       "Name: batsman_runs, dtype: int64"
      ]
     },
     "execution_count": 20,
     "metadata": {},
     "output_type": "execute_result"
    }
   ],
   "source": [
    "# Problem 2: Finding top 10 batsman vs top 10 bowlers in IPL.\n",
    "\n",
    "#finding top 10 batsmen in terms of maximum runs\n",
    "top_batsman=tournament.groupby('batsman')['batsman_runs'].sum().sort_values(ascending=False).head(10)\n",
    "\n",
    "#displaying top 10 batsmen\n",
    "top_batsman"
   ]
  },
  {
   "cell_type": "code",
   "execution_count": 21,
   "metadata": {},
   "outputs": [
    {
     "data": {
      "text/plain": [
       "bowler\n",
       "SL Malinga         154\n",
       "A Mishra           134\n",
       "Harbhajan Singh    127\n",
       "PP Chawla          126\n",
       "DJ Bravo           122\n",
       "B Kumar            111\n",
       "A Nehra            106\n",
       "R Vinay Kumar      103\n",
       "Z Khan             102\n",
       "R Ashwin           100\n",
       "Name: player_dismissed, dtype: int64"
      ]
     },
     "execution_count": 21,
     "metadata": {},
     "output_type": "execute_result"
    }
   ],
   "source": [
    "#finding bowler wickets\n",
    "dismissal=['bowled','caught','caught and bowled','stumped','lbw','hit wicket']\n",
    "wickets=tournament[tournament['dismissal_kind'].isin(dismissal)]\n",
    "\n",
    "#finding top 10 bowlers\n",
    "top_bowler=wickets.groupby('bowler')['player_dismissed'].count().sort_values(ascending=False).head(10)\n",
    "\n",
    "#displaying top 10 bowlers\n",
    "top_bowler"
   ]
  },
  {
   "cell_type": "code",
   "execution_count": 22,
   "metadata": {},
   "outputs": [],
   "source": [
    "#finding dataframe for top 10 batsmen\n",
    "top_batsman_data=(tournament[tournament['batsman'].isin(top_batsman.index.tolist())])"
   ]
  },
  {
   "cell_type": "code",
   "execution_count": 23,
   "metadata": {},
   "outputs": [],
   "source": [
    "#finding dataframe for top 10 batsmen vs bowler\n",
    "required_data=top_batsman_data[top_batsman_data['bowler'].isin(top_bowler.index.tolist())]"
   ]
  },
  {
   "cell_type": "code",
   "execution_count": 24,
   "metadata": {},
   "outputs": [],
   "source": [
    "#forming a pivot table\n",
    "pivot=required_data.pivot_table(index='bowler',columns='batsman',values='batsman_runs',aggfunc='sum')"
   ]
  },
  {
   "cell_type": "code",
   "execution_count": 25,
   "metadata": {},
   "outputs": [
    {
     "data": {
      "text/plain": [
       "<matplotlib.axes._subplots.AxesSubplot at 0x22b82622d30>"
      ]
     },
     "execution_count": 25,
     "metadata": {},
     "output_type": "execute_result"
    },
    {
     "data": {
      "image/png": "[encoded data removed]",
      "text/plain": [
       "<Figure size 432x288 with 2 Axes>"
      ]
     },
     "metadata": {
      "needs_background": "light"
     },
     "output_type": "display_data"
    }
   ],
   "source": [
    "#creating heatmap\n",
    "sns.heatmap(pivot.fillna(value=0))"
   ]
  },
  {
   "cell_type": "code",
   "execution_count": null,
   "metadata": {},
   "outputs": [],
   "source": []
  }
 ],
 "metadata": {
  "kernelspec": {
   "display_name": "Python 3",
   "language": "python",
   "name": "python3"
  },
  "language_info": {
   "codemirror_mode": {
    "name": "ipython",
    "version": 3
   },
   "file_extension": ".py",
   "mimetype": "text/x-python",
   "name": "python",
   "nbconvert_exporter": "python",
   "pygments_lexer": "ipython3",
   "version": "3.7.3"
  }
 },
 "nbformat": 4,
 "nbformat_minor": 2
}
