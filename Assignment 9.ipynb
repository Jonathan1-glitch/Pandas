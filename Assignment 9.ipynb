{
 "cells": [
  {
   "cell_type": "code",
   "execution_count": 4,
   "metadata": {},
   "outputs": [],
   "source": [
    "#Author: Soumyadeep Hore\n",
    "#Assignment No.: 9\n",
    "#Created on: 14th October,2019 17:18 IST\n",
    "\n",
    "#importing numpy packages\n",
    "import numpy as np\n",
    "\n",
    "#importing pandas packages\n",
    "import pandas as pd\n",
    "\n",
    "#reading datasheet\n",
    "data=pd.read_csv('matches - matches.csv')"
   ]
  },
  {
   "cell_type": "code",
   "execution_count": 26,
   "metadata": {},
   "outputs": [
    {
     "data": {
      "text/plain": [
       "Chennai Super Kings            6.0\n",
       "Mumbai Indians                 4.0\n",
       "Royal Challengers Bangalore    3.0\n",
       "dtype: float64"
      ]
     },
     "execution_count": 26,
     "metadata": {},
     "output_type": "execute_result"
    }
   ],
   "source": [
    "#Problem: To find the top 3 teams in IPL to play maximum no. of finals\n",
    "\n",
    "#finding out the final matches\n",
    "finals=data.drop_duplicates(subset='season',keep='last')\n",
    "\n",
    "#finding out total no. of finals played by each team as team 1\n",
    "team1_finals=finals['team1'].value_counts()\n",
    "\n",
    "#finding out total no. of finals played by each team as team 2\n",
    "team2_finals=finals['team2'].value_counts()\n",
    "\n",
    "#merging above two series and finding top 3 teams who played maximum no. of finals\n",
    "team1_finals.add(team2_finals,fill_value=0).sort_values(ascending=False).head(3)"
   ]
  },
  {
   "cell_type": "code",
   "execution_count": null,
   "metadata": {},
   "outputs": [],
   "source": []
  },
  {
   "cell_type": "code",
   "execution_count": null,
   "metadata": {},
   "outputs": [],
   "source": []
  },
  {
   "cell_type": "code",
   "execution_count": null,
   "metadata": {},
   "outputs": [],
   "source": []
  }
 ],
 "metadata": {
  "kernelspec": {
   "display_name": "Python 3",
   "language": "python",
   "name": "python3"
  },
  "language_info": {
   "codemirror_mode": {
    "name": "ipython",
    "version": 3
   },
   "file_extension": ".py",
   "mimetype": "text/x-python",
   "name": "python",
   "nbconvert_exporter": "python",
   "pygments_lexer": "ipython3",
   "version": "3.7.3"
  }
 },
 "nbformat": 4,
 "nbformat_minor": 2
}
