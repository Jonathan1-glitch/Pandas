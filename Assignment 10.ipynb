{
 "cells": [
  {
   "cell_type": "code",
   "execution_count": 24,
   "metadata": {},
   "outputs": [],
   "source": [
    "#Author: Soumyadeep Hore\n",
    "#Assignment: 10\n",
    "#Created on: 17th October,2019 21:08 IST\n",
    "\n",
    "#importing numpy package\n",
    "import numpy as np\n",
    "\n",
    "#importing pandas packages\n",
    "import pandas as pd\n",
    "\n",
    "#reading deliveries datasheet\n",
    "delivery=pd.read_csv('deliveries.csv')"
   ]
  },
  {
   "cell_type": "code",
   "execution_count": 25,
   "metadata": {},
   "outputs": [
    {
     "data": {
      "text/plain": [
       "MS Dhoni          132\n",
       "KA Pollard        108\n",
       "AB de Villiers     97\n",
       "RG Sharma          92\n",
       "Yuvraj Singh       79\n",
       "Name: batsman, dtype: int64"
      ]
     },
     "execution_count": 25,
     "metadata": {},
     "output_type": "execute_result"
    }
   ],
   "source": [
    "#Problem 1: Finding top 5 batsmen who have hit most no. of 6's in last 5 overs in entire IPL history\n",
    "\n",
    "#masking out the data of last 5 overs\n",
    "mask1=delivery['over']>=15\n",
    "\n",
    "#finding the top 5 batsmen who have hit most no. of 6's in last 5 years\n",
    "delivery[mask1].groupby('batsman_runs').get_group(6)['batsman'].value_counts().sort_values(ascending=False).head()"
   ]
  },
  {
   "cell_type": "code",
   "execution_count": 26,
   "metadata": {},
   "outputs": [
    {
     "data": {
      "text/plain": [
       "bowler\n",
       "A Mishra     149\n",
       "UT Yadav     141\n",
       "DJ Bravo     130\n",
       "R Ashwin     127\n",
       "RA Jadeja    104\n",
       "Name: batsman_runs, dtype: int64"
      ]
     },
     "execution_count": 26,
     "metadata": {},
     "output_type": "execute_result"
    }
   ],
   "source": [
    "#Problem 2: Finding top 5 bowlers against whom V Kohli Has scored most runs in IPL.\n",
    "\n",
    "#masking out the balls played by V Kohli\n",
    "mask1=delivery['batsman']=='V Kohli'\n",
    "\n",
    "#finding out the top 5 bowlers against whom V Kohli scored most no. of runs\n",
    "delivery[mask1].groupby('bowler')['batsman_runs'].sum().sort_values(ascending=False).head()"
   ]
  },
  {
   "cell_type": "code",
   "execution_count": null,
   "metadata": {},
   "outputs": [],
   "source": []
  }
 ],
 "metadata": {
  "kernelspec": {
   "display_name": "Python 3",
   "language": "python",
   "name": "python3"
  },
  "language_info": {
   "codemirror_mode": {
    "name": "ipython",
    "version": 3
   },
   "file_extension": ".py",
   "mimetype": "text/x-python",
   "name": "python",
   "nbconvert_exporter": "python",
   "pygments_lexer": "ipython3",
   "version": "3.7.3"
  }
 },
 "nbformat": 4,
 "nbformat_minor": 2
}
