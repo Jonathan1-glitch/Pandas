{
 "cells": [
  {
   "cell_type": "code",
   "execution_count": 2,
   "metadata": {},
   "outputs": [],
   "source": [
    "#Author: Soumyadeep Hore\n",
    "#Created On: 13th September,2019 at 17:35 IST\n",
    "#Assignment No.: 8\n",
    "\n",
    "#importing numpy packages\n",
    "import numpy as np\n",
    "\n",
    "#importing pandas packages\n",
    "import pandas as pd\n",
    "\n",
    "#importing pyplot from matplotlib package\n",
    "import matplotlib.pyplot as plt\n",
    "\n",
    "#reading ipl matches dataframe\n",
    "data=pd.read_csv('matches - matches.csv')"
   ]
  },
  {
   "cell_type": "code",
   "execution_count": 26,
   "metadata": {},
   "outputs": [
    {
     "data": {
      "text/plain": [
       "<matplotlib.axes._subplots.AxesSubplot at 0x20a72e2e828>"
      ]
     },
     "execution_count": 26,
     "metadata": {},
     "output_type": "execute_result"
    },
    {
     "data": {
      "image/png": "[encoded data removed]",
      "text/plain": [
       "<Figure size 432x288 with 1 Axes>"
      ]
     },
     "metadata": {
      "needs_background": "light"
     },
     "output_type": "display_data"
    }
   ],
   "source": [
    "#Problem 1: Display bar chat of top five teams who have played maximum no. of matches in ipl\n",
    "\n",
    "#merging 2 columns team1 and team2 and finding the top 5 teams \n",
    "matches_played=(data['team1'].value_counts()+data['team2'].value_counts()).sort_values(ascending =False).head()\n",
    "\n",
    "#plotting graph for the above problem\n",
    "matches_played.plot(kind='barh')"
   ]
  },
  {
   "cell_type": "code",
   "execution_count": 27,
   "metadata": {},
   "outputs": [],
   "source": [
    "#Problem 2: Create a function to find win-loss record between 2 teams\n",
    "\n",
    "#creating function team_winRecord() to find win-loss record between 2 teams\n",
    "def team_winRecord(team_a,team_b):\n",
    "    \n",
    "    #masking out team_a rows \n",
    "    mask1=data['team1']==team_a\n",
    "    mask2=data['team2']==team_a\n",
    "    \n",
    "    #masking out team_b rows\n",
    "    mask3=data['team1']==team_b\n",
    "    mask4=data['team2']==team_b\n",
    "    \n",
    "    #returning the output\n",
    "    return data[(mask1|mask2) & (mask3|mask4)]['winner'].value_counts()"
   ]
  },
  {
   "cell_type": "code",
   "execution_count": 28,
   "metadata": {},
   "outputs": [
    {
     "data": {
      "text/plain": [
       "Mumbai Indians         12\n",
       "Chennai Super Kings    10\n",
       "Name: winner, dtype: int64"
      ]
     },
     "execution_count": 28,
     "metadata": {},
     "output_type": "execute_result"
    }
   ],
   "source": [
    "#testing function\n",
    "team_winRecord('Mumbai Indians','Chennai Super Kings')"
   ]
  },
  {
   "cell_type": "code",
   "execution_count": 29,
   "metadata": {},
   "outputs": [
    {
     "data": {
      "text/plain": [
       "Chennai Super Kings            12\n",
       "Royal Challengers Bangalore     7\n",
       "Name: winner, dtype: int64"
      ]
     },
     "execution_count": 29,
     "metadata": {},
     "output_type": "execute_result"
    }
   ],
   "source": [
    "#testing function\n",
    "team_winRecord('Royal Challengers Bangalore','Chennai Super Kings')"
   ]
  },
  {
   "cell_type": "code",
   "execution_count": null,
   "metadata": {},
   "outputs": [],
   "source": []
  },
  {
   "cell_type": "code",
   "execution_count": null,
   "metadata": {},
   "outputs": [],
   "source": []
  },
  {
   "cell_type": "code",
   "execution_count": null,
   "metadata": {},
   "outputs": [],
   "source": []
  }
 ],
 "metadata": {
  "kernelspec": {
   "display_name": "Python 3",
   "language": "python",
   "name": "python3"
  },
  "language_info": {
   "codemirror_mode": {
    "name": "ipython",
    "version": 3
   },
   "file_extension": ".py",
   "mimetype": "text/x-python",
   "name": "python",
   "nbconvert_exporter": "python",
   "pygments_lexer": "ipython3",
   "version": "3.7.3"
  }
 },
 "nbformat": 4,
 "nbformat_minor": 2
}
